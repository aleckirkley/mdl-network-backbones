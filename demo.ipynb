{
 "cells": [
  {
   "cell_type": "code",
   "execution_count": 1,
   "id": "88ccce96-18f8-41f8-ace0-2150ad6ef611",
   "metadata": {},
   "outputs": [
    {
     "name": "stdout",
     "output_type": "stream",
     "text": [
      "Gb(global) = [(0, 3, 20), (0, 1, 12), (0, 4, 8)]\n",
      "eta(global) = 0.881923057758564\n",
      "W = 53\n",
      "E = 10\n",
      "Wb_global = 40\n",
      "Eb_global = 3\n",
      " \n",
      "Gb(local) = [(0, 3, 20), (1, 4, 3), (2, 1, 3), (3, 2, 3)]\n",
      "eta(local) = 0.8592797602410368\n",
      "si = 40\n",
      "ki = 3\n",
      "si_b = 20\n",
      "ki_b = 1\n"
     ]
    }
   ],
   "source": [
    "from functions import *\n",
    "\n",
    "#weighted edgelist for example in Fig 1 diagram\n",
    "elist = [(0,1,12),(0,3,20),(0,4,8),(1,2,1),(1,4,3),(2,0,1),(2,1,3),(3,2,3),(3,4,1),(4,3,1)]\n",
    "\n",
    "# compute backbones and compression ratios using out-edges\n",
    "bbg,bbl,cg,cl = MDL_backboning(elist,directed=True,out_edges=True)\n",
    "\n",
    "#statistics for global network backbone\n",
    "print('Gb(global) =',bbg)\n",
    "print('eta(global) =',cg)\n",
    "print('W','=',sum([e[-1] for e in elist]))\n",
    "print('E','=',len(elist))\n",
    "print('Wb_global','=',sum([e[-1] for e in bbg]))\n",
    "print('Eb_global','=',len(bbg))\n",
    "print(' ')\n",
    "\n",
    "#statistics for local network backbone\n",
    "print('Gb(local) =',bbl)\n",
    "print('eta(local) =',cl)\n",
    "i = 0\n",
    "neig = [e[-1] for e in elist if e[0] == i]\n",
    "neig_b = [e[-1] for e in bbl if e[0] == i]\n",
    "print('si','=',sum(neig))\n",
    "print('ki','=',len(neig))\n",
    "print('si_b','=',sum(neig_b))\n",
    "print('ki_b','=',len(neig_b))"
   ]
  },
  {
   "cell_type": "code",
   "execution_count": null,
   "id": "e56583c4-d830-42c4-a849-e1dbc2583757",
   "metadata": {},
   "outputs": [],
   "source": []
  }
 ],
 "metadata": {
  "kernelspec": {
   "display_name": "Python 3 (ipykernel)",
   "language": "python",
   "name": "python3"
  },
  "language_info": {
   "codemirror_mode": {
    "name": "ipython",
    "version": 3
   },
   "file_extension": ".py",
   "mimetype": "text/x-python",
   "name": "python",
   "nbconvert_exporter": "python",
   "pygments_lexer": "ipython3",
   "version": "3.12.2"
  }
 },
 "nbformat": 4,
 "nbformat_minor": 5
}
